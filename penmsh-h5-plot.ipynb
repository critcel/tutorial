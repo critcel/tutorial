{
 "metadata": {
  "name": "penmsh-h5-plot"
 },
 "nbformat": 3,
 "nbformat_minor": 0,
 "worksheets": [
  {
   "cells": [
    {
     "cell_type": "code",
     "collapsed": false,
     "input": [
      "import numpy as np\n",
      "import h5py\n",
      "import matplotlib.pyplot as plt\n",
      "import matplotlib.cm as cm\n",
      "\n",
      "myfile = 'he3demo.h5'\n",
      "f = h5py.File(myfile,'r')\n",
      "\n",
      "# We need information basis to know the IXJXZ in some global attribute\n",
      "# Here is it 5 x 5 x 2\n",
      "# Just operate on 25 CMs for now\n",
      "cm_data = []\n",
      "for i in range(1,25+1):\n",
      "    cm_name = 'cm' + str(i).zfill(3)\n",
      "    data = f.get(cm_name)\n",
      "    cm_data.append(data)"
     ],
     "language": "python",
     "metadata": {},
     "outputs": [],
     "prompt_number": 82
    },
    {
     "cell_type": "code",
     "collapsed": false,
     "input": [
      "pm000 = (-5.0, 5.0, -5.0, 5.0)  # global xy boundaries\n",
      "\n",
      "pm_data = []\n",
      "# Done by hand for now\n",
      "pm_data.append((-5, -3, -5, -3))\n",
      "pm_data.append((-3, -1.28, -5, -3))\n",
      "pm_data.append((-1.28, 1.28, -5, -3))\n",
      "pm_data.append((1.28, 3, -5, -3))\n",
      "pm_data.append((3.0, 5.0, -5, -3))\n",
      "\n",
      "pm_data.append((-5, -3, -3, -1.28))\n",
      "pm_data.append((-3, -1.28, -3, -1.28))\n",
      "pm_data.append((-1.28, 1.28, -3, -1.28))\n",
      "pm_data.append((1.28, 3, -3, -1.28))\n",
      "pm_data.append((3.0, 5.0, -3, -1.28))\n",
      "\n",
      "pm_data.append((-5, -3, -1.28, 1.28))\n",
      "pm_data.append((-3, -1.28, -1.28, 1.28))\n",
      "pm_data.append((-1.28, 1.28, -1.28, 1.28))\n",
      "pm_data.append((1.28, 3, -1.28, 1.28))\n",
      "pm_data.append((3.0, 5.0, -1.28, 1.28))\n",
      "\n",
      "pm_data.append((-5, -3, 1.28, 3))\n",
      "pm_data.append((-3, -1.28, 1.28, 3))\n",
      "pm_data.append((-1.28, 1.28, 1.28, 3))\n",
      "pm_data.append((1.28, 3, 1.28, 3))\n",
      "pm_data.append((3.0, 5.0, 1.28, 3))\n",
      "\n",
      "pm_data.append((-5, -3, 3, 5))\n",
      "pm_data.append((-3, -1.28, 3, 5))\n",
      "pm_data.append((-1.28, 1.28, 3, 5))\n",
      "pm_data.append((1.28, 3, 3, 5))\n",
      "pm_data.append((3.0, 5.0, 3, 5))\n",
      "\n",
      "def cm_view(i):\n",
      "    \"\"\"\n",
      "    Return a compatible numpy array providing 2D plane view of CM\n",
      "    (e.g. 'XY' for z-cut).\n",
      "\n",
      "    For now, the view is 'XY' and taking the first z fine mesh.\n",
      "    \"\"\"\n",
      "    return np.array(cm_data[i-1][0][::-1])\n",
      "\n",
      "def plot_cm(cm_idx):\n",
      "    return plt.imshow(cm_view(cm_idx),interpolation='nearest',cmap=cm.gist_rainbow_r,\n",
      "        extent=pm_data[cm_idx-1])\n",
      "\n",
      "for i in range(1,25+1):\n",
      "    plot_cm(i)\n",
      "\n",
      "plt.rcParams['figure.figsize'] = 10, 10\n",
      "plt.axis(pm000)\n",
      "plt.show()"
     ],
     "language": "python",
     "metadata": {},
     "outputs": [
      {
       "output_type": "display_data",
       "png": "[encoded data removed]"
      }
     ],
     "prompt_number": 91
    }
   ],
   "metadata": {}
  }
 ]
}