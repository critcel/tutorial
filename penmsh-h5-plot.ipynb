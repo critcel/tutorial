{
 "metadata": {
  "name": "penmsh-h5-plot"
 },
 "nbformat": 3,
 "nbformat_minor": 0,
 "worksheets": [
  {
   "cells": [
    {
     "cell_type": "code",
     "collapsed": false,
     "input": [
      "import numpy as np\n",
      "import h5py\n",
      "import matplotlib.pyplot as plt\n",
      "import matplotlib.cm as cm\n",
      "\n",
      "myfile = 'he3demo.h5'\n",
      "f = h5py.File(myfile,'r')\n",
      "cm_data = []\n",
      "\n",
      "# We need information basis to know the IXJXZ in some global attribute\n",
      "# Here is it 5 x 5 x 2\n",
      "# Just operate on 25 CMs for now\n",
      "for i in range(1,25+1):\n",
      "    cm_name = 'cm' + str(i).zfill(3)\n",
      "    data = f.get(cm_name)\n",
      "    cm_data.append(data)"
     ],
     "language": "python",
     "metadata": {},
     "outputs": [],
     "prompt_number": 63
    },
    {
     "cell_type": "code",
     "collapsed": false,
     "input": [
      "#shape(cm_data[13][1])\n",
      "#shape(cm_data[13][1, 0])\n",
      "shape(np.swapaxes(np.array(cm_data[13])[1],0,1))"
     ],
     "language": "python",
     "metadata": {},
     "outputs": [
      {
       "output_type": "pyout",
       "prompt_number": 64,
       "text": [
        "(120, 160)"
       ]
      }
     ],
     "prompt_number": 64
    },
    {
     "cell_type": "code",
     "collapsed": false,
     "input": [
      "pm000 = (-5.0, 5.0, -5.0, 5.0)  # global xy boundaries\n",
      "\n",
      "pm011 = (-5, -3, -1.28, 1.28)\n",
      "pm012 = (-3, -1.28, -1.28, 1.28)\n",
      "pm013 = (-1.28, 1.28, -1.28, 1.28)\n",
      "pm014 = (1.28, 3, -1.28, 1.28)\n",
      "pm015 = (3.0, 5.0, -1.28, 1.28)\n",
      "\n",
      "pm016 = (-5, -3, 1.28, 3)\n",
      "pm017 = (-3, -1.28, 1.28, 3)\n",
      "pm018 = (-1.28, 1.28, 1.28, 3)\n",
      "pm019 = (1.28, 3, 1.28, 3)\n",
      "pm020 = (3.0, 5.0, 1.28, 3)\n",
      "\n",
      "img11 = plt.imshow(np.array(cm_data[10])[1],interpolation='nearest',cmap=cm.gist_rainbow,\n",
      "        extent=pm011)\n",
      "img12 = plt.imshow(np.array(cm_data[11])[1],interpolation='nearest',cmap=cm.gist_rainbow,\n",
      "        extent=pm012)\n",
      "img13 = plt.imshow(np.array(cm_data[12])[1],interpolation='nearest',cmap=cm.gist_rainbow,\n",
      "        extent=pm013)\n",
      "img14 = plt.imshow(np.array(cm_data[13])[1],interpolation='nearest',cmap=cm.gist_rainbow,\n",
      "        extent=pm014)\n",
      "img15 = plt.imshow(np.array(cm_data[14])[1],interpolation='nearest',cmap=cm.gist_rainbow,\n",
      "        extent=pm015)\n",
      "\n",
      "img16 = plt.imshow(np.array(cm_data[15])[1],interpolation='nearest',cmap=cm.gist_rainbow,\n",
      "        extent=pm016)\n",
      "img17 = plt.imshow(np.array(cm_data[16])[1],interpolation='nearest',cmap=cm.gist_rainbow,\n",
      "        extent=pm017)\n",
      "img18 = plt.imshow(np.array(cm_data[17])[1],interpolation='nearest',cmap=cm.gist_rainbow,\n",
      "        extent=pm018)\n",
      "img19 = plt.imshow(np.array(cm_data[18])[1],interpolation='nearest',cmap=cm.gist_rainbow,\n",
      "        extent=pm019)\n",
      "img20 = plt.imshow(np.array(cm_data[19])[1],interpolation='nearest',cmap=cm.gist_rainbow,\n",
      "        extent=pm020)\n",
      "\n",
      "plt.rcParams['figure.figsize'] = 10, 10\n",
      "plt.axis(pm000)\n",
      "plt.show()"
     ],
     "language": "python",
     "metadata": {},
     "outputs": [
      {
       "output_type": "display_data",
       "png": "[encoded data removed]"
      }
     ],
     "prompt_number": 62
    },
    {
     "cell_type": "code",
     "collapsed": false,
     "input": [],
     "language": "python",
     "metadata": {},
     "outputs": []
    }
   ],
   "metadata": {}
  }
 ]
}