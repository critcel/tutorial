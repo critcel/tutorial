{
 "metadata": {
  "name": "penmsh-h5-plot"
 },
 "nbformat": 3,
 "nbformat_minor": 0,
 "worksheets": [
  {
   "cells": [
    {
     "cell_type": "markdown",
     "metadata": {},
     "source": [
      "Application of H5 Files with PENMSH\n",
      "====\n",
      "\n",
      "K. Manalo, C. Yi\n",
      "____"
     ]
    },
    {
     "cell_type": "code",
     "collapsed": false,
     "input": [
      "%pylab inline"
     ],
     "language": "python",
     "metadata": {},
     "outputs": [
      {
       "output_type": "stream",
       "stream": "stdout",
       "text": [
        "\n",
        "Welcome to pylab, a matplotlib-based Python environment [backend: module://IPython.zmq.pylab.backend_inline].\n",
        "For more information, type 'help(pylab)'.\n"
       ]
      }
     ],
     "prompt_number": 1
    },
    {
     "cell_type": "markdown",
     "metadata": {},
     "source": [
      "<center>![Z-Level 1](files/images/he3_z1cm_50.png)</center>\n",
      "<center>Z-level 1: Hexagon</center>"
     ]
    },
    {
     "cell_type": "markdown",
     "metadata": {},
     "source": [
      "<center>![Z-Level 2](files/images/he3_z2cm_50.png)</center>\n",
      "<center>Z-level 2: Hexagon</center>"
     ]
    },
    {
     "cell_type": "code",
     "collapsed": false,
     "input": [
      "import numpy as np\n",
      "import h5py\n",
      "import matplotlib.pyplot as plt\n",
      "import matplotlib.cm as cm\n",
      "\n",
      "def boundaries_xy(h5_file_handle):\n",
      "    \"\"\"\n",
      "    Return a list of tuples (xmin, xmax, ymin, ymax) for each CM, as \n",
      "    well as a global tuple defining the XY view\n",
      "\n",
      "    Args: h5_file_handle\n",
      "\n",
      "    Returns: pm_data, pm_global\n",
      "    pm_data is a list of tuples and pm_global is a tuple list\n",
      "    \"\"\"\n",
      "\n",
      "    xdim = h5_file_handle.get('xdim')[:]\n",
      "    ydim = h5_file_handle.get('ydim')[:]\n",
      "    zdim = h5_file_handle.get('zdim')[:]\n",
      "    \n",
      "    pm_data = []\n",
      "    for k, cbz in enumerate(zdim[:-1]):\n",
      "        for j, cby in enumerate(ydim[:-1]):\n",
      "            for i, cbz in enumerate(xdim[:-1]):\n",
      "               pm_data.append((xdim[i], xdim[i+1], ydim[j], ydim[j+1]))\n",
      "    \n",
      "    pm_global = (np.min(xdim), np.max(xdim), np.min(ydim), np.max(ydim))\n",
      "    return pm_data, pm_global\n",
      "\n",
      "def grab_macro_cm_dims(h5_file_handle):\n",
      "\n",
      "    xdim = h5_file_handle.get('xdim')[:]\n",
      "    ydim = h5_file_handle.get('ydim')[:]\n",
      "    zdim = h5_file_handle.get('zdim')[:]\n",
      "    cm_span = dict()\n",
      "    cm_span['x'] = np.shape(xdim[:])[0] - 1\n",
      "    cm_span['y'] = np.shape(ydim[:])[0] - 1\n",
      "    cm_span['z'] = np.shape(zdim[:])[0] - 1\n",
      "\n",
      "    return cm_span\n",
      "\n",
      "def grab_coarse_meshes(h5_file_handle):\n",
      "    \n",
      "    cm_data = []\n",
      "    \n",
      "    cm_span = grab_macro_cm_dims(h5_file_handle)\n",
      "    for i in range(cm_span['x']*cm_span['y']*cm_span['z']):\n",
      "        cm_name = 'cm' + str(i+1).zfill(3)\n",
      "        data = h5_file_handle.get(cm_name)\n",
      "        cm_data.append(data)\n",
      "        \n",
      "    return cm_data, cm_span\n",
      "\n",
      "def cm_view(cm_data, i):\n",
      "    \"\"\"\n",
      "    Return a compatible numpy array providing 2D plane view of CM\n",
      "    (e.g. 'XY' for z-cut).\n",
      "\n",
      "    For now, the view is 'XY' and taking the first z fine mesh.\n",
      "    [i-1] beacuse cm_data is zero-based based on Python zero-index\n",
      "    [0] for the first z fine mesh\n",
      "    [::-1] reverses the array as PENMSH data is in 'YX' form, flip back to 'XY'\n",
      "    \"\"\"\n",
      "    return np.array(cm_data[i-1][0][::-1])\n",
      "\n",
      "# Not sure if the pixel is proportioned to appropriate dx/dy, will need to investigate\n",
      "def plot_cm(cm_data, cm_idx):\n",
      "    \"\"\"\n",
      "    Return an image of the coarse mesh #cm_idx in 2D plane view using nearest intepolation and rainbow colormap\n",
      "    \"\"\"\n",
      "    return plt.imshow(cm_view(cm_data, cm_idx),interpolation='nearest', cmap=cm.gist_rainbow_r, extent=pm_data[cm_idx-1])\n",
      "\n",
      "def plot_xy(cm_data, cm_span, z_level):\n",
      "    \"\"\"\n",
      "    Plot a 2D plane view, given the coarse-mesh data, the coarse-mesh span, and z-level[int]\n",
      "    \"\"\"\n",
      "    assert 0 < z_level <= cm_span['z']\n",
      "    cm_min = cm_span['x'] * cm_span['y'] * (z_level - 1)\n",
      "    cm_max = cm_span['x'] * cm_span['y'] * z_level\n",
      "    for cm_idx in range(cm_min, cm_max):\n",
      "        plot_cm(cm_data, cm_idx)"
     ],
     "language": "python",
     "metadata": {},
     "outputs": [],
     "prompt_number": 2
    },
    {
     "cell_type": "code",
     "collapsed": false,
     "input": [
      "# This is the 'h5' file that is exported by '-h5' using PENMSH for case 1 hexagon\n",
      "myfile = 'he3demo.h5'\n",
      "h5_file_handle = h5py.File(myfile,'r')\n",
      "\n",
      "# Collect the coarse mesh data from the h5 file\n",
      "cm_data, cm_span = grab_coarse_meshes(h5_file_handle)    \n",
      "\n",
      "# Collect the physical mesh boundary data\n",
      "pm_data, pm_global = boundaries_xy(h5_file_handle)\n",
      "\n",
      "# Size\n",
      "plt.rcParams['figure.figsize'] = 10,10\n",
      "# Assemble the XY mesh data (right first zfm in each z-level)\n",
      "plot_xy(cm_data, cm_span, 1)\n",
      "\n",
      "# Set XY View, and Show\n",
      "plt.axis(pm_global)\n",
      "\n",
      "plt.show()"
     ],
     "language": "python",
     "metadata": {},
     "outputs": [
      {
       "output_type": "display_data",
       "png": "[encoded data removed]"
      }
     ],
     "prompt_number": 3
    }
   ],
   "metadata": {}
  }
 ]
}